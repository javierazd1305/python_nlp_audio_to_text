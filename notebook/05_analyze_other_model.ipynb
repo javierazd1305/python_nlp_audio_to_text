{
 "cells": [
  {
   "cell_type": "code",
   "execution_count": 56,
   "metadata": {},
   "outputs": [],
   "source": [
    "import openai\n",
    "import pandas as pd\n",
    "import json"
   ]
  },
  {
   "cell_type": "code",
   "execution_count": 57,
   "metadata": {},
   "outputs": [],
   "source": [
    "def split_text_into_chunks(text, chunk_size):\n",
    "    # Split the text into words\n",
    "    words = text.split()\n",
    "\n",
    "    # Initialize an empty list to store the word chunks\n",
    "    chunks = []\n",
    "\n",
    "    # Iterate through the list of words and create chunks of the specified size\n",
    "    for i in range(0, len(words), chunk_size):\n",
    "        chunk = words[i:i + chunk_size]\n",
    "        chunks.append(' '.join(chunk))\n",
    "\n",
    "    return chunks"
   ]
  },
  {
   "cell_type": "code",
   "execution_count": 58,
   "metadata": {},
   "outputs": [],
   "source": [
    "# Define a function to interact with ChatGPT\n",
    "def chat_with_gpt(prompt):\n",
    "    response = openai.Completion.create(\n",
    "        model=\"gpt-3.5-turbo\",\n",
    "        prompt=prompt,\n",
    "        max_tokens=500,  # Adjust as needed\n",
    "        n=1,  # Number of responses to generate\n",
    "        stop=None,  # Optional stop condition for the response\n",
    "        temperature=0.5,\n",
    "    )\n",
    "    return response.choices[0].text"
   ]
  },
  {
   "cell_type": "code",
   "execution_count": 59,
   "metadata": {},
   "outputs": [],
   "source": [
    "text_path = \"../output/clean_text.txt\"\n",
    "api_key = json.load(open('../input/credentials.json', 'r'))['key']"
   ]
  },
  {
   "cell_type": "code",
   "execution_count": 60,
   "metadata": {},
   "outputs": [],
   "source": [
    "openai.api_key = api_key"
   ]
  },
  {
   "cell_type": "code",
   "execution_count": 61,
   "metadata": {},
   "outputs": [],
   "source": [
    "with open(text_path, 'r') as file:\n",
    "    text = file.read()"
   ]
  },
  {
   "cell_type": "code",
   "execution_count": 62,
   "metadata": {},
   "outputs": [
    {
     "data": {
      "text/plain": [
       "11220"
      ]
     },
     "execution_count": 62,
     "metadata": {},
     "output_type": "execute_result"
    }
   ],
   "source": [
    "len(text.split())"
   ]
  },
  {
   "cell_type": "code",
   "execution_count": 94,
   "metadata": {},
   "outputs": [],
   "source": [
    "text_chunks = split_text_into_chunks(text, 2500) #900"
   ]
  },
  {
   "cell_type": "code",
   "execution_count": 95,
   "metadata": {},
   "outputs": [
    {
     "name": "stdout",
     "output_type": "stream",
     "text": [
      "5\n"
     ]
    }
   ],
   "source": [
    "print(len(text_chunks))"
   ]
  },
  {
   "cell_type": "code",
   "execution_count": 96,
   "metadata": {},
   "outputs": [],
   "source": [
    "prompts = []\n",
    "for i, chunk in enumerate(text_chunks):\n",
    "    #print(f\"Chunk {i + 1} {len(chunk.split())}: {chunk}\")\n",
    "    prompt_s = \"\"\"\n",
    "    give me the summary in spanish of the following text: {} \"\"\".format(chunk)\n",
    "    prompts.append(prompt_s)"
   ]
  },
  {
   "cell_type": "code",
   "execution_count": 97,
   "metadata": {},
   "outputs": [],
   "source": [
    "# Define a prompt for your conversation\n",
    "conversation = [\n",
    "    {\"role\": \"system\", \"content\": \"You are a helpful news reporter.\"},\n",
    "    {\"role\": \"user\", \"content\": prompts[0]},\n",
    "]"
   ]
  },
  {
   "cell_type": "code",
   "execution_count": 98,
   "metadata": {},
   "outputs": [],
   "source": [
    "# response = openai.ChatCompletion.create(\n",
    "#     model=\"gpt-3.5-turbo\",  # Use the appropriate model name\n",
    "#     messages=conversation,\n",
    "# )"
   ]
  },
  {
   "cell_type": "code",
   "execution_count": 99,
   "metadata": {},
   "outputs": [],
   "source": [
    "response = openai.ChatCompletion.create(\n",
    "    model=\"gpt-3.5-turbo\",  # Use the appropriate model name\n",
    "    messages=conversation,\n",
    ")"
   ]
  },
  {
   "cell_type": "code",
   "execution_count": 100,
   "metadata": {},
   "outputs": [],
   "source": [
    "assistant_reply = response['choices'][0]['message']['content']"
   ]
  },
  {
   "cell_type": "code",
   "execution_count": 101,
   "metadata": {},
   "outputs": [
    {
     "name": "stdout",
     "output_type": "stream",
     "text": [
      "El texto menciona la preocupación por la inseguridad en algunas zonas de Arequipa, especialmente en el Terminal Terrestre y en el callejón de salida de Cerro Juli. Se denuncia la presencia de extranjeros ejerciendo la prostitución en esas áreas, con poca presencia policial. Los residentes y administradores de estas zonas piden más seguridad y medidas para garantizar la tranquilidad de los ciudadanos.\n"
     ]
    }
   ],
   "source": [
    "print(assistant_reply)"
   ]
  },
  {
   "cell_type": "code",
   "execution_count": null,
   "metadata": {},
   "outputs": [],
   "source": [
    "prompts"
   ]
  },
  {
   "cell_type": "code",
   "execution_count": null,
   "metadata": {},
   "outputs": [],
   "source": [
    "responses = []\n",
    "for prp in prompts:\n",
    "    response = chat_with_gpt(prp)\n",
    "    response = response.strip()\n",
    "    responses.append(response)\n",
    "    print(response)\n",
    "    break"
   ]
  },
  {
   "cell_type": "code",
   "execution_count": null,
   "metadata": {},
   "outputs": [],
   "source": []
  },
  {
   "cell_type": "code",
   "execution_count": null,
   "metadata": {},
   "outputs": [],
   "source": []
  }
 ],
 "metadata": {
  "kernelspec": {
   "display_name": ".venv",
   "language": "python",
   "name": "python3"
  },
  "language_info": {
   "codemirror_mode": {
    "name": "ipython",
    "version": 3
   },
   "file_extension": ".py",
   "mimetype": "text/x-python",
   "name": "python",
   "nbconvert_exporter": "python",
   "pygments_lexer": "ipython3",
   "version": "3.7.9"
  }
 },
 "nbformat": 4,
 "nbformat_minor": 2
}
