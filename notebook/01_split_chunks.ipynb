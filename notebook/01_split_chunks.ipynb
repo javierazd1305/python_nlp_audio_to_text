{
 "cells": [
  {
   "cell_type": "code",
   "execution_count": 12,
   "metadata": {},
   "outputs": [],
   "source": [
    "from pydub import AudioSegment\n",
    "import os\n",
    "import glob"
   ]
  },
  {
   "cell_type": "code",
   "execution_count": 13,
   "metadata": {},
   "outputs": [],
   "source": [
    "def split_audio(temp_dir, export_path, chunk_size_ms):\n",
    "    audio_path = os.path.join(temp_dir, export_path)\n",
    "    ## dividir el audio en una cantidad de milisegundos especifico\n",
    "    audio = AudioSegment.from_file(audio_path)\n",
    "    chunks = [audio[i:i + chunk_size_ms] for i in range(0, len(audio), chunk_size_ms)]\n",
    "    for i, chunk in enumerate(chunks):\n",
    "        chunk.export(os.path.join(temp_dir, f\"chunk_{i}.wav\"), format=\"wav\")\n",
    "    return chunks"
   ]
  },
  {
   "cell_type": "code",
   "execution_count": 24,
   "metadata": {},
   "outputs": [],
   "source": [
    "def delete_chunks(temp_dir, pattern):\n",
    "    files_to_delete = glob.glob(os.path.join(temp_dir, pattern))\n",
    "    for file_path in files_to_delete:\n",
    "        try:\n",
    "            os.remove(file_path)\n",
    "            #print(f\"Deleted: {file_path}\")\n",
    "        except Exception as e:\n",
    "            print(f\"Error deleting {file_path}: {str(e)}\")"
   ]
  },
  {
   "cell_type": "code",
   "execution_count": 25,
   "metadata": {},
   "outputs": [],
   "source": [
    "temp_dir = \"../output/temp_audio_files\"\n",
    "export_path = \"audio_mod_final.wav\"\n",
    "chunk_size_ms = 50000  # tamaño en milisegundos para dividir el audio\n",
    "pattern = 'chunk*'"
   ]
  },
  {
   "cell_type": "code",
   "execution_count": 26,
   "metadata": {},
   "outputs": [],
   "source": [
    "delete_chunks(temp_dir, pattern)"
   ]
  },
  {
   "cell_type": "code",
   "execution_count": 27,
   "metadata": {},
   "outputs": [],
   "source": [
    "chunks = split_audio(temp_dir, export_path, chunk_size_ms)"
   ]
  },
  {
   "cell_type": "code",
   "execution_count": null,
   "metadata": {},
   "outputs": [],
   "source": []
  }
 ],
 "metadata": {
  "kernelspec": {
   "display_name": ".venv",
   "language": "python",
   "name": "python3"
  },
  "language_info": {
   "codemirror_mode": {
    "name": "ipython",
    "version": 3
   },
   "file_extension": ".py",
   "mimetype": "text/x-python",
   "name": "python",
   "nbconvert_exporter": "python",
   "pygments_lexer": "ipython3",
   "version": "3.7.9"
  },
  "orig_nbformat": 4
 },
 "nbformat": 4,
 "nbformat_minor": 2
}
