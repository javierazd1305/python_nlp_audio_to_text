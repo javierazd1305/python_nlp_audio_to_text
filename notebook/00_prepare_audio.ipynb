{
 "cells": [
  {
   "cell_type": "code",
   "execution_count": 1,
   "metadata": {},
   "outputs": [],
   "source": [
    "from pydub import AudioSegment\n",
    "import os\n",
    "import shutil\n",
    "import wave"
   ]
  },
  {
   "cell_type": "code",
   "execution_count": 2,
   "metadata": {},
   "outputs": [],
   "source": [
    "audio_path = \"../input/Radio Contacto Sur - Contacto Sur Noticias - 14.09.2023.mp3\"\n",
    "temp_dir = \"../output/temp_audio_files\"\n",
    "export_path = \"audio_mod_final.wav\""
   ]
  },
  {
   "cell_type": "code",
   "execution_count": 8,
   "metadata": {},
   "outputs": [],
   "source": [
    "def prepare_audio(input_path, output_path,  temp_dir):\n",
    "    audio_mod = AudioSegment.from_mp3(input_path)\n",
    "    # limpiar la ruta temporal\n",
    "    if not os.path.exists(temp_dir):\n",
    "    # Create the directory if it doesn't exist\n",
    "        os.makedirs(temp_dir)\n",
    "    else:\n",
    "        shutil.rmtree(temp_dir)\n",
    "        os.makedirs(temp_dir)\n",
    "\n",
    "    audio_mod = audio_mod.set_frame_rate(48000) ## 48000 for high quality and 44100 for standard\n",
    "    audio_mod = audio_mod.set_channels(1)\n",
    "    audio_mod = audio_mod.normalize()\n",
    "    audio_mod = audio_mod + 15\n",
    "    audio_mod = audio_mod.low_pass_filter(1000)\n",
    "    audio_mod.export(os.path.join(temp_dir, output_path), format=\"wav\")\n",
    "    \n",
    "    return audio_mod"
   ]
  },
  {
   "cell_type": "code",
   "execution_count": 9,
   "metadata": {},
   "outputs": [],
   "source": [
    "audio_mod = prepare_audio(audio_path, export_path,  temp_dir)"
   ]
  }
 ],
 "metadata": {
  "kernelspec": {
   "display_name": ".venv",
   "language": "python",
   "name": "python3"
  },
  "language_info": {
   "codemirror_mode": {
    "name": "ipython",
    "version": 3
   },
   "file_extension": ".py",
   "mimetype": "text/x-python",
   "name": "python",
   "nbconvert_exporter": "python",
   "pygments_lexer": "ipython3",
   "version": "3.7.9"
  },
  "orig_nbformat": 4
 },
 "nbformat": 4,
 "nbformat_minor": 2
}
