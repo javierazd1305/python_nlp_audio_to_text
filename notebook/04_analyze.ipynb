{
 "cells": [
  {
   "cell_type": "code",
   "execution_count": 2,
   "metadata": {},
   "outputs": [],
   "source": [
    "# !pip install pandas\n",
    "# !pip install openpyxl\n",
    "# !pip install GoogleBard"
   ]
  },
  {
   "cell_type": "code",
   "execution_count": 5,
   "metadata": {},
   "outputs": [],
   "source": [
    "import openai\n",
    "import pandas as pd\n",
    "import json"
   ]
  },
  {
   "cell_type": "code",
   "execution_count": 3,
   "metadata": {},
   "outputs": [],
   "source": [
    "def split_text_into_chunks(text, chunk_size):\n",
    "    # Split the text into words\n",
    "    words = text.split()\n",
    "\n",
    "    # Initialize an empty list to store the word chunks\n",
    "    chunks = []\n",
    "\n",
    "    # Iterate through the list of words and create chunks of the specified size\n",
    "    for i in range(0, len(words), chunk_size):\n",
    "        chunk = words[i:i + chunk_size]\n",
    "        chunks.append(' '.join(chunk))\n",
    "\n",
    "    return chunks"
   ]
  },
  {
   "cell_type": "code",
   "execution_count": 4,
   "metadata": {},
   "outputs": [],
   "source": [
    "# Define a function to interact with ChatGPT\n",
    "def chat_with_gpt(prompt):\n",
    "    response = openai.Completion.create(\n",
    "        engine=\"text-davinci-002\",  # Use the ChatGPT model\n",
    "        prompt=prompt,\n",
    "        max_tokens=500,  # Adjust as needed\n",
    "        n=1,  # Number of responses to generate\n",
    "        stop=None,  # Optional stop condition for the response\n",
    "        temperature=0.5,\n",
    "    )\n",
    "    return response.choices[0].text"
   ]
  },
  {
   "cell_type": "code",
   "execution_count": 8,
   "metadata": {},
   "outputs": [],
   "source": [
    "text_path = \"../output/clean_text.txt\"\n",
    "api_key = json.load(open('../input/credentials.json', 'r'))['key']"
   ]
  },
  {
   "cell_type": "code",
   "execution_count": 6,
   "metadata": {},
   "outputs": [],
   "source": [
    "openai.api_key = api_key"
   ]
  },
  {
   "cell_type": "code",
   "execution_count": 7,
   "metadata": {},
   "outputs": [],
   "source": [
    "with open(text_path, 'r') as file:\n",
    "    text = file.read()"
   ]
  },
  {
   "cell_type": "code",
   "execution_count": 17,
   "metadata": {},
   "outputs": [
    {
     "data": {
      "text/plain": [
       "24272"
      ]
     },
     "execution_count": 17,
     "metadata": {},
     "output_type": "execute_result"
    }
   ],
   "source": [
    "len(text.split())"
   ]
  },
  {
   "cell_type": "code",
   "execution_count": 13,
   "metadata": {},
   "outputs": [],
   "source": [
    "text_chunks = split_text_into_chunks(text, 900) #900"
   ]
  },
  {
   "cell_type": "code",
   "execution_count": 14,
   "metadata": {},
   "outputs": [
    {
     "name": "stdout",
     "output_type": "stream",
     "text": [
      "27\n"
     ]
    }
   ],
   "source": [
    "print(len(text_chunks))"
   ]
  },
  {
   "cell_type": "code",
   "execution_count": 38,
   "metadata": {},
   "outputs": [],
   "source": [
    "df = pd.DataFrame()\n",
    "df[\"texto\"] = text_chunks\n",
    "df.to_excel(\"../output/texto_inicial.xlsx\", index=False)"
   ]
  },
  {
   "cell_type": "code",
   "execution_count": 27,
   "metadata": {},
   "outputs": [],
   "source": [
    "prompts = []\n",
    "for i, chunk in enumerate(text_chunks[50:55]):\n",
    "    #print(f\"Chunk {i + 1} {len(chunk.split())}: {chunk}\")\n",
    "    prompt_s = \"\"\"\n",
    "    I am giving you a new, assign how likely it is that it belongs to one of these categories:\n",
    "    Área socieconómica y desarrollo\n",
    "    Sociedad y Comunidad\n",
    "    Medio Ambiente y Recursos Naturales\n",
    "    Gobierno y Política\n",
    "    Infraestructura y servicios públicos\n",
    "    Salud y bienestar\n",
    "    Seguridad y justicia\n",
    "    Comunicacióny medios\n",
    "    Trabajo y economía\n",
    "    Movimientos sociales y protestas\n",
    "    Deporte y Entretenimiento\n",
    "\n",
    "    In the format\n",
    "    category, probability\n",
    "    \n",
    "    for the text: {} \"\"\".format(chunk)\n",
    "    prompts.append(prompt_s)"
   ]
  },
  {
   "cell_type": "code",
   "execution_count": 12,
   "metadata": {},
   "outputs": [
    {
     "name": "stdout",
     "output_type": "stream",
     "text": [
      "iba con su familia de regreso a la ciudad de Arequipa luego de pasar unas vacaciones en la playa de la libertad el vehículo en el que viajaban fue impactado por una camioneta que invadió el carril contrario la madre de familia fue trasladada al hospital Honorio Delgado Espinoza donde fue intervenida quirúrgicamente según señaló su esposo Marvin Rodríguez a las niña de Arequipa solicito donación de sangre tipo O positivo y a qué Vargas perdió sangre por las heridas a causa del accidente del día 12 de septiembre ella nave la última fila en la minivan que y según contó a iba con su familia\n",
      "ética-moral que no existía en los años 80 y los 90 y la Policía Nacional del Perú debería de tener esa presencia porque no está haciendo una labor preventiva y eso es lo que se debería de hacer y no esperar que pase un delito y luego llegar y hacer la investigación y luego llegar y hacer la investigación y luego llegar y hacer la investigación y luego llegar y hacer la investigación y luego llegar y hacer la investigación y luego llegar y hacer la investigación y luego llegar y hacer la investigación y luego llegar y hacer la investigación y luego llegar y hacer la investigación\n",
      "Comunidad, 0.25\n",
      "    Sociedad y Comunidad, 0.25\n",
      "    Medio Ambiente y Recursos Naturales, 0.25\n",
      "    Infraestructura y servicios públicos, 0.25\n",
      "    Salud y bienestar, 0.25\n",
      "Sociedad y Comunidad, 0.2\n",
      "Medio Ambiente y Recursos Naturales, 0.1\n",
      "Gobierno y Política, 0.1\n",
      "Infraestructura y servicios públicos, 0.1\n",
      "Salud y bienestar, 0.1\n",
      "Seguridad y justicia, 0.1\n",
      "Comunicacióny medios, 0.1\n",
      "Trabajo y economía, 0.1\n",
      "Movimientos sociales y protestas, 0.1\n",
      "Deporte y Entretenimiento, 0.1\n",
      "Gobierno y Política, 0.6\n",
      "Sociedad y Comunidad, 0.4\n",
      "Seguridad y justicia, 0.8\n",
      "    Comunicacióny medios, 0.2\n",
      "iban a cerrar los mercados pues también deberían cerrar los mercados de la avenida tus defensas y los mercados de la avenida 9 de diciembre y los mercados de la avenida 9 de octubre y los mercados de la avenida 9 de octubre y los mercados de la avenida 9 de diciembre y los mercados de la avenida 9 de diciembre y los mercados de la avenida 9 de diciembre y los mercados de la avenida 9 de diciembre y los mercados de la avenida 9 de diciembre y los mercados de la avenida 9 de diciembre y los mercados de la avenida 9 de diciembre y los mercados de la avenida 9 de diciembre y los mercados de la avenida 9 de diciembre y\n",
      "Comercio y economía, 0.8\n",
      "    Medio Ambiente y Recursos Naturales, 0.2\n",
      "ida de la carrera las mujeres tuvieron la oportunidad de estudiar en el campus de Ferreiros en Cataluña y también en el campo de entrenamiento de Ferreiros en la ciudad de Lima en la provincia de Lima también las mujeres tuvieron la oportunidad de estar en contacto con la operación de Ferreiros en la ciudad de Lima y en la provincia de Lima también las mujeres tuvieron la oportunidad de estar en contacto con la operación de Ferreiros en la ciudad de Lima y en la provincia de Lima también las mujeres tuvieron la oportunidad de estar en contacto con la operación de Ferreiros en la ci\n",
      "Gobierno y Política, 0.8\n",
      "    Medio Ambiente y Recursos Naturales, 0.1\n",
      "    Infraestructura y servicios públicos, 0.1\n",
      "ida y vuelta con la municipalidad distrital de Cayma con la municipalidad provincial de Arequipa y con la municipalidad distrital de Cayma para poder no tener una coordinación entre las tres instituciones para poder no tener una coordinación entre las tres instituciones para poder no tener una coordinación entre las tres instituciones para poder no tener una coordinación entre las tres instituciones para poder no tener una coordinación entre las tres instituciones para poder no tener una coordinación entre las tres instituciones para poder no tener una coordinación entre las tres instituciones para poder no tener una coordinación entre las tres instituciones para\n",
      "iba a ser la vivienda popular no y la vivienda popular no es para todos los pobres no es para todos los pobres no es para todos los pobres no es para todos los pobres no es para todos los pobres no es para todos los pobres no es para todos los pobres no es para todos los pobres no es para todos los pobres no es para todos los pobres no es para todos los pobres no es para todos los pobres no es para todos los pobres no es para todos los pobres no es para todos los pobres no es para todos los pobres no es para todos los pobres no es para todos los pobres no es para todos los pobres no es para todos los pobres no es para\n",
      "ida y vuelta con la finalidad de brindar un mejor servicio a los pasajeros que viajan a la ciudad de Puno a la ciudad de Puno desde la ciudad de Arequipa el plan ida y vuelta se ejecutará de lunes a viernes y el último bus de regreso a la ciudad de Arequipa será a las 7 de la noche la tarifa para el pasaje de ida y vuelta será de 60 soles y para los niños de 5 a 12 años de edad la tarifa será de 30 soles y los niños menores de 5 años de edad no abonarán pasaje la salida de los buses será desde la terminal de la avenida San Martín a las\n",
      "Gobierno y Política, 0.3\n",
      "    Infraestructura y servicios públicos, 0.2\n",
      "    Seguridad y justicia, 0.4\n",
      "    Comunicacióny medios, 0.1\n",
      "Seguridad y justicia, 0.8\n",
      "    Comunicacióny medios, 0.2\n",
      "énfasis y también el tema de la seguridad ciudadana que es un tema que no se puede dejar de lado y que se tiene que tratar con mucha seriedad y con mucho énfasis y con mucha responsabilidad y también el tema de la movilidad urbana que es un tema que también es muy serio y que también es muy importante y que también es muy urgente y también el tema de la economía y el tema del empleo que es un tema que también es muy serio y que también es muy importante y también es muy urgente y también el tema de la salud que es un tema que también es muy\n",
      "Infraestructura y servicios públicos, 0.7\n",
      "    Medio Ambiente y Recursos Naturales, 0.3\n",
      "Gobierno y Política, 0.6\n",
      "Sociedad y Comunidad, 0.4\n",
      "iba a hacer una movilización de una movilización de una movilización de una movilización de una movilización de una movilización de una movilización de una movilización de una movilización de una movilización de una movilización de una movilización de una movilización de una movilización de una movilización de una movilización de una movilización de una movilización de una movilización de una movilización de una movilización de una movilización de una movilización de una movilización de una movil\n",
      "iba a haber una reunión de la Asamblea Nacional Constituyente para tratar la cuestión de la cuestión de la cuestión de la cuestión de la cuestión de la cuestión de la cuestión de la cuestión de la cuestión de la cuestión de la cuestión de la cuestión de la cuestión de la cuestión de la cuestión de la cuestión de la cuestión de la cuestión de la cuestión de la cuestión de la cuestión de la cuestión de la cuestión de la cuestión de la cuestión de la cuestión de la cuestión de la cuestión de la cuestión de la\n",
      "ida de la mañana con 25 minutos 7,31 la vida con 25 minutos 7,31 vamos a la pausa y retomamos con 7,31 vamos a la pausa y retomamos con 7,31 vamos a la pausa y retomamos con 7,31 vamos a la pausa y retomamos con 7,31 vamos a la pausa y retomamos con 7,31 vamos a la pausa y retomamos con 7,31 vamos a la pausa y retomamos con 7,31 vamos a la pausa y retomamos con 7,31 vamos a la pausa y retomamos con 7,31 vamos a la pausa y retomamos con 7,31 vamos a la\n",
      "Gobierno y Política, 0.6\n",
      "Sociedad y Comunidad, 0.2\n",
      "Medio Ambiente y Recursos Naturales, 0.1\n",
      "Infraestructura y servicios públicos, 0.1\n",
      "irlo a desarrollar y también estamos en comunicación con la Oficina de Desarrollo Urbano para que nos explique un poco cómo va a ser el proceso de empadronamiento y estadística de esta tía no y también estamos en comunicación con la Oficina de Desarrollo Urbano para que nos explique un poco cómo va a ser el proceso de empadronamiento y estadística de esta tía no y también estamos en comunicación con la Oficina de Desarrollo Urbano para que nos explique un poco cómo va a ser el proceso de empadronamiento y estadística de esta tía no y también estam\n",
      "Comunicacióny medios, 0.2\n",
      "    Trabajo y economía, 0.1\n",
      "    Gobierno y Política, 0.3\n",
      "    Infraestructura y servicios públicos, 0.1\n",
      "    Salud y bienestar, 0.1\n",
      "    Seguridad y justicia, 0.1\n",
      "Salud y bienestar, 0.5\n",
      "    Medio Ambiente y Recursos Naturales, 0.2\n",
      "    Infraestructura y servicios públicos, 0.1\n",
      "    Comunicacióny medios, 0.1\n",
      "    Deporte y Entretenimiento, 0.1\n"
     ]
    }
   ],
   "source": [
    "responses = []\n",
    "for prp in prompts:\n",
    "    response = chat_with_gpt(prp)\n",
    "    response = response.strip()\n",
    "    responses.append(response)\n",
    "    print(response)"
   ]
  },
  {
   "cell_type": "code",
   "execution_count": 13,
   "metadata": {},
   "outputs": [],
   "source": [
    "df = pd.DataFrame()"
   ]
  },
  {
   "cell_type": "code",
   "execution_count": 14,
   "metadata": {},
   "outputs": [],
   "source": [
    "df[\"texto\"] = text_chunks\n",
    "df[\"respuesta\"] = responses\n",
    "df[\"interes\"] = 0"
   ]
  },
  {
   "cell_type": "code",
   "execution_count": 15,
   "metadata": {},
   "outputs": [],
   "source": [
    "index_1 = 0\n",
    "index_2 = 0\n",
    "\n",
    "for index, row in df.iterrows():\n",
    "    texto = row[\"texto\"]\n",
    "    if \"Fenómeno El Niño\" in texto:\n",
    "        index_1 = index\n",
    "    if \"agricultor\" in texto:\n",
    "        index_2 = index"
   ]
  },
  {
   "cell_type": "code",
   "execution_count": 16,
   "metadata": {},
   "outputs": [],
   "source": [
    "df.loc[index_1, \"interes\"] = 1\n",
    "df.loc[index_2, \"interes\"] = 1"
   ]
  },
  {
   "cell_type": "code",
   "execution_count": 18,
   "metadata": {},
   "outputs": [],
   "source": [
    "df.to_excel(\"../output/resultado.xlsx\", index=False)"
   ]
  },
  {
   "cell_type": "code",
   "execution_count": null,
   "metadata": {},
   "outputs": [],
   "source": [
    "### Hay casos de inseguridad: Sicariato (hasta el minuto 26)\n",
    "\n",
    "### La joya (planta tratamiento de agua proyecto de los 22 pueblos): minuto 40 - 45\n",
    "\n",
    "### Fenomeno del nino: Minuto 48 - 53\n",
    "\n",
    "### conflicto minero y otros (vinculados a Dina) - 58- 1:10\n",
    "\n",
    "### Juan Carlos Linares "
   ]
  }
 ],
 "metadata": {
  "kernelspec": {
   "display_name": ".venv",
   "language": "python",
   "name": "python3"
  },
  "language_info": {
   "codemirror_mode": {
    "name": "ipython",
    "version": 3
   },
   "file_extension": ".py",
   "mimetype": "text/x-python",
   "name": "python",
   "nbconvert_exporter": "python",
   "pygments_lexer": "ipython3",
   "version": "3.7.9"
  },
  "orig_nbformat": 4
 },
 "nbformat": 4,
 "nbformat_minor": 2
}
