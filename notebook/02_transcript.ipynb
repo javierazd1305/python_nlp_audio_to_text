{
 "cells": [
  {
   "cell_type": "code",
   "execution_count": 1,
   "metadata": {},
   "outputs": [],
   "source": [
    "from pydub import AudioSegment\n",
    "from google.cloud import speech_v1p1beta1 as speech\n",
    "import os\n",
    "import shutil"
   ]
  },
  {
   "cell_type": "code",
   "execution_count": 2,
   "metadata": {},
   "outputs": [],
   "source": [
    "def transcribe_mono_audio(audio_path, text_path, credentials_path):\n",
    "    ## speech to text gcp api\n",
    "    ## para wav es 44100\n",
    "    \n",
    "    client = speech.SpeechClient.from_service_account_file(credentials_path)    \n",
    "    config = speech.RecognitionConfig(\n",
    "        encoding=speech.RecognitionConfig.AudioEncoding.LINEAR16,\n",
    "        sample_rate_hertz=48000,\n",
    "        language_code=\"es-ES\",\n",
    "    )\n",
    "    with open(audio_path, \"rb\") as audio_file:\n",
    "        audio_content = audio_file.read()\n",
    "\n",
    "    audio = speech.RecognitionAudio(content=audio_content)\n",
    "    response = client.recognize(config=config, audio=audio)\n",
    "\n",
    "    ## escribir el resultado\n",
    "    index = 0\n",
    "    for result in response.results:\n",
    "        resultado = result.alternatives[0].transcript\n",
    "        #with open('../output/audio.txt', 'a') as file:\n",
    "        # with open(text_path, 'a') as file:\n",
    "        #     file.write(resultado + \"\\n\")\n",
    "        print(resultado)"
   ]
  },
  {
   "cell_type": "code",
   "execution_count": 3,
   "metadata": {},
   "outputs": [],
   "source": [
    "temp_dir = \"../output/temp_audio_files\"\n",
    "text_path = '../output/audio_to_text.txt'\n",
    "credentials_path = \"../input/proyecto-nlp-credenciales.json\" #path de las credenciales gcp"
   ]
  },
  {
   "cell_type": "code",
   "execution_count": 4,
   "metadata": {},
   "outputs": [],
   "source": [
    "file_count = 0\n",
    "for item in os.listdir(temp_dir):\n",
    "    item_path = os.path.join(temp_dir, item)\n",
    "    if os.path.isfile(item_path):\n",
    "        file_count += 1\n",
    "file_count = file_count-1"
   ]
  },
  {
   "cell_type": "code",
   "execution_count": 5,
   "metadata": {},
   "outputs": [
    {
     "data": {
      "text/plain": [
       "141"
      ]
     },
     "execution_count": 5,
     "metadata": {},
     "output_type": "execute_result"
    }
   ],
   "source": [
    "file_count"
   ]
  },
  {
   "cell_type": "code",
   "execution_count": 7,
   "metadata": {},
   "outputs": [
    {
     "name": "stdout",
     "output_type": "stream",
     "text": [
      "tanto partirás bueno lloviendo lloviendo no está lloviendo lloviendo está tenemos mejor clima aquí en Arequipa está saliendo del mozo astro el sol democrático él sale para todos para todos mi estimado diciéndome estimada de vecina usted dónde está que está haciendo estas horas de la mañana yo presumo estar viniendo aquí a la plataforma\n",
      "0\n"
     ]
    }
   ],
   "source": [
    "for i in range(file_count):\n",
    "    audio_path = os.path.join(temp_dir, f\"chunk_{i}.wav\")\n",
    "    transcribe_mono_audio(audio_path, text_path, credentials_path)\n",
    "    print(i)\n",
    "    break"
   ]
  },
  {
   "cell_type": "code",
   "execution_count": null,
   "metadata": {},
   "outputs": [],
   "source": []
  }
 ],
 "metadata": {
  "kernelspec": {
   "display_name": ".venv",
   "language": "python",
   "name": "python3"
  },
  "language_info": {
   "codemirror_mode": {
    "name": "ipython",
    "version": 3
   },
   "file_extension": ".py",
   "mimetype": "text/x-python",
   "name": "python",
   "nbconvert_exporter": "python",
   "pygments_lexer": "ipython3",
   "version": "3.7.9"
  },
  "orig_nbformat": 4
 },
 "nbformat": 4,
 "nbformat_minor": 2
}
