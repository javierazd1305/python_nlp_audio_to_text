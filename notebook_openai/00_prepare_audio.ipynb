{
 "cells": [
  {
   "cell_type": "code",
   "execution_count": 2,
   "metadata": {},
   "outputs": [],
   "source": [
    "from pathlib import Path\n",
    "from pydub import AudioSegment\n",
    "import os"
   ]
  },
  {
   "cell_type": "code",
   "execution_count": 3,
   "metadata": {},
   "outputs": [],
   "source": [
    "def list_files_in_directory(directory):\n",
    "    path = Path(directory)\n",
    "    return [str(p) for p in path.rglob(\"*\") if p.suffix in (\".mp3\", \".mp4\")]"
   ]
  },
  {
   "cell_type": "code",
   "execution_count": 4,
   "metadata": {},
   "outputs": [],
   "source": [
    "def prepare_audio(input_path):\n",
    "    audio_mod = AudioSegment.from_mp3(input_path)\n",
    "    audio_mod = audio_mod.set_frame_rate(48000) ## 48000 for high quality and 44100 for standard\n",
    "    audio_mod = audio_mod.set_channels(1)\n",
    "    audio_mod = audio_mod.normalize()\n",
    "    audio_mod = audio_mod + 15\n",
    "    audio_mod = audio_mod.low_pass_filter(1000)    \n",
    "    return audio_mod"
   ]
  },
  {
   "cell_type": "code",
   "execution_count": 5,
   "metadata": {},
   "outputs": [],
   "source": [
    "input_dir = \"../input/13 de Setiembre/1.Radio\"\n",
    "output_dir = \"../output/13 de Setiembre/1.Radio/openai/\"\n",
    "all_files = list_files_in_directory(input_dir)"
   ]
  },
  {
   "cell_type": "code",
   "execution_count": 6,
   "metadata": {},
   "outputs": [
    {
     "data": {
      "text/plain": [
       "72"
      ]
     },
     "execution_count": 6,
     "metadata": {},
     "output_type": "execute_result"
    }
   ],
   "source": [
    "len(all_files)"
   ]
  },
  {
   "cell_type": "markdown",
   "metadata": {},
   "source": [
    "## Crear carpeta para cada audio"
   ]
  },
  {
   "cell_type": "code",
   "execution_count": 7,
   "metadata": {},
   "outputs": [],
   "source": [
    "for file in all_files:\n",
    "    audio_name = file.split(\"\\\\\")[-1].split(\".mp\")[0]\n",
    "    new_audio_dir = os.path.join(output_dir, audio_name)\n",
    "    if not os.path.exists(new_audio_dir):\n",
    "        os.makedirs(new_audio_dir)"
   ]
  },
  {
   "cell_type": "code",
   "execution_count": 8,
   "metadata": {},
   "outputs": [],
   "source": [
    "## Exportar audio modificado en carpeta correspondiente"
   ]
  },
  {
   "cell_type": "code",
   "execution_count": 9,
   "metadata": {},
   "outputs": [
    {
     "name": "stdout",
     "output_type": "stream",
     "text": [
      "0\n",
      "../output/13 de Setiembre/1.Radio/openai/AM Magazine - Universidad Noticias - 13.09.2023 (1)\\AM Magazine - Universidad Noticias - 13.09.2023 (1).mp3\n",
      "1\n",
      "../output/13 de Setiembre/1.Radio/openai/Radio Contacto Sur - Contacto Sur Noticias - 13.09.2023\\Radio Contacto Sur - Contacto Sur Noticias - 13.09.2023.mp3\n",
      "2\n",
      "../output/13 de Setiembre/1.Radio/openai/Radio Exitosa - Exitosa Noticias (SE) - 13.09.2023\\Radio Exitosa - Exitosa Noticias (SE) - 13.09.2023.mp3\n",
      "3\n",
      "../output/13 de Setiembre/1.Radio/openai/Radio Líder - Líder Noticias (PE) - 13.09.2023\\Radio Líder - Líder Noticias (PE) - 13.09.2023.mp3\n",
      "4\n",
      "../output/13 de Setiembre/1.Radio/openai/Radio Líder - Líder Noticias (SE) - 13.09.2023\\Radio Líder - Líder Noticias (SE) - 13.09.2023.mp3\n",
      "5\n",
      "../output/13 de Setiembre/1.Radio/openai/Radio Melodía - Melodía en la noticia (PE) - 13.09.2023\\Radio Melodía - Melodía en la noticia (PE) - 13.09.2023.mp3\n",
      "6\n",
      "../output/13 de Setiembre/1.Radio/openai/Radio San Martín - RSM Noticias (PE) - 13.09.2023\\Radio San Martín - RSM Noticias (PE) - 13.09.2023.mp3\n",
      "7\n",
      "../output/13 de Setiembre/1.Radio/openai/Radio San Martín - RSM Noticias (SE) - 13.09.2023\\Radio San Martín - RSM Noticias (SE) - 13.09.2023.mp3\n",
      "8\n",
      "../output/13 de Setiembre/1.Radio/openai/Radio Stereo Uno & Nevada - El Show de Martín Junior - 13.09.2023\\Radio Stereo Uno & Nevada - El Show de Martín Junior - 13.09.2023.mp3\n",
      "9\n",
      "../output/13 de Setiembre/1.Radio/openai/Radio Stereo Uno & Nevada - Nevada Informa (PE) - 13.09.2023\\Radio Stereo Uno & Nevada - Nevada Informa (PE) - 13.09.2023.mp3\n",
      "10\n",
      "../output/13 de Setiembre/1.Radio/openai/Radio Victoria - Sin Patrones - 13.09.2023\\Radio Victoria - Sin Patrones - 13.09.2023.mp3\n",
      "11\n",
      "../output/13 de Setiembre/1.Radio/openai/Radio Victoria - Victoria Informativa (TE) - 13.09.2023\\Radio Victoria - Victoria Informativa (TE) - 13.09.2023.mp3\n",
      "ERROR:  ../output/13 de Setiembre/1.Radio/openai/Radio Victoria - Victoria Informativa (TE) - 13.09.2023\\Radio Victoria - Victoria Informativa (TE) - 13.09.2023.mp3\n"
     ]
    }
   ],
   "source": [
    "errores = []\n",
    "for index, item in enumerate(all_files):\n",
    "    try:\n",
    "        audio_mod = prepare_audio(item)\n",
    "        audio_dir = item.split(\"\\\\\")[-1].split(\".mp\")[0]\n",
    "        audio_file = audio_dir+\".mp3\"\n",
    "        audio_export_path = os.path.join(output_dir,audio_dir, audio_file)\n",
    "        print(index)\n",
    "        print(audio_export_path)\n",
    "        audio_mod.export(audio_export_path, format=\"mp3\")\n",
    "    except:\n",
    "        print(\"ERROR: \", audio_export_path)\n",
    "        errores.append(audio_export_path)"
   ]
  },
  {
   "cell_type": "code",
   "execution_count": null,
   "metadata": {},
   "outputs": [],
   "source": []
  }
 ],
 "metadata": {
  "kernelspec": {
   "display_name": ".venv",
   "language": "python",
   "name": "python3"
  },
  "language_info": {
   "codemirror_mode": {
    "name": "ipython",
    "version": 3
   },
   "file_extension": ".py",
   "mimetype": "text/x-python",
   "name": "python",
   "nbconvert_exporter": "python",
   "pygments_lexer": "ipython3",
   "version": "3.7.9"
  }
 },
 "nbformat": 4,
 "nbformat_minor": 2
}
