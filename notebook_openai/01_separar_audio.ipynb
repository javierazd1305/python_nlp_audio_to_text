{
 "cells": [
  {
   "cell_type": "code",
   "execution_count": 1,
   "metadata": {},
   "outputs": [],
   "source": [
    "from pathlib import Path\n",
    "from pydub import AudioSegment\n",
    "import os"
   ]
  },
  {
   "cell_type": "code",
   "execution_count": 2,
   "metadata": {},
   "outputs": [],
   "source": [
    "def split_audio(input, output_dir, chunk_size_ms):\n",
    "    audio_path = input\n",
    "    ## dividir el audio en una cantidad de milisegundos especifico\n",
    "    audio = AudioSegment.from_file(audio_path)\n",
    "    chunks = [audio[i:i + chunk_size_ms] for i in range(0, len(audio), chunk_size_ms)]\n",
    "    for i, chunk in enumerate(chunks):\n",
    "        formatted_string = f\"{i:04d}\"\n",
    "        chunk.export(os.path.join(output_dir, f\"chunk_{formatted_string}.mp3\"), format=\"wav\")\n",
    "    return chunks"
   ]
  },
  {
   "cell_type": "code",
   "execution_count": 3,
   "metadata": {},
   "outputs": [],
   "source": [
    "def list_files_in_directory(directory):\n",
    "    path = Path(directory)\n",
    "    return [str(p) for p in path.rglob(\"*\") if p.suffix in (\".mp3\")]"
   ]
  },
  {
   "cell_type": "code",
   "execution_count": 4,
   "metadata": {},
   "outputs": [],
   "source": [
    "def check_for_chunk_in_filenames(directory):\n",
    "    path = Path(directory)\n",
    "    for file in path.rglob(\"*\"):\n",
    "        if \"chunk\" in file.name:\n",
    "            return True\n",
    "    return False"
   ]
  },
  {
   "cell_type": "code",
   "execution_count": 10,
   "metadata": {},
   "outputs": [],
   "source": [
    "output_dir = \"../output/13 de Setiembre/1.Radio/openai/\"\n",
    "chunk_size_ms = 250000\n",
    "all_files = list_files_in_directory(output_dir)\n",
    "all_files = [file for file in all_files if (\".mp3\" in file) & (\"chunk\" not in file)]"
   ]
  },
  {
   "cell_type": "code",
   "execution_count": 11,
   "metadata": {},
   "outputs": [
    {
     "data": {
      "text/plain": [
       "['..\\\\output\\\\13 de Setiembre\\\\1.Radio\\\\openai\\\\AM Magazine - Universidad Noticias - 13.09.2023 (1)\\\\AM Magazine - Universidad Noticias - 13.09.2023 (1).mp3',\n",
       " '..\\\\output\\\\13 de Setiembre\\\\1.Radio\\\\openai\\\\Radio Contacto Sur - Contacto Sur Noticias - 13.09.2023\\\\Radio Contacto Sur - Contacto Sur Noticias - 13.09.2023.mp3',\n",
       " '..\\\\output\\\\13 de Setiembre\\\\1.Radio\\\\openai\\\\Radio Exitosa - Exitosa Noticias (SE) - 13.09.2023\\\\Radio Exitosa - Exitosa Noticias (SE) - 13.09.2023.mp3',\n",
       " '..\\\\output\\\\13 de Setiembre\\\\1.Radio\\\\openai\\\\Radio Líder - Líder Noticias (PE) - 13.09.2023\\\\Radio Líder - Líder Noticias (PE) - 13.09.2023.mp3',\n",
       " '..\\\\output\\\\13 de Setiembre\\\\1.Radio\\\\openai\\\\Radio Líder - Líder Noticias (SE) - 13.09.2023\\\\Radio Líder - Líder Noticias (SE) - 13.09.2023.mp3',\n",
       " '..\\\\output\\\\13 de Setiembre\\\\1.Radio\\\\openai\\\\Radio Melodía - Melodía en la noticia (PE) - 13.09.2023\\\\Radio Melodía - Melodía en la noticia (PE) - 13.09.2023.mp3',\n",
       " '..\\\\output\\\\13 de Setiembre\\\\1.Radio\\\\openai\\\\Radio San Martín - RSM Noticias (PE) - 13.09.2023\\\\Radio San Martín - RSM Noticias (PE) - 13.09.2023.mp3',\n",
       " '..\\\\output\\\\13 de Setiembre\\\\1.Radio\\\\openai\\\\Radio San Martín - RSM Noticias (SE) - 13.09.2023\\\\Radio San Martín - RSM Noticias (SE) - 13.09.2023.mp3',\n",
       " '..\\\\output\\\\13 de Setiembre\\\\1.Radio\\\\openai\\\\Radio Stereo Uno & Nevada - El Show de Martín Junior - 13.09.2023\\\\Radio Stereo Uno & Nevada - El Show de Martín Junior - 13.09.2023.mp3',\n",
       " '..\\\\output\\\\13 de Setiembre\\\\1.Radio\\\\openai\\\\Radio Stereo Uno & Nevada - Nevada Informa (PE) - 13.09.2023\\\\Radio Stereo Uno & Nevada - Nevada Informa (PE) - 13.09.2023.mp3',\n",
       " '..\\\\output\\\\13 de Setiembre\\\\1.Radio\\\\openai\\\\Radio Victoria - Sin Patrones - 13.09.2023\\\\Radio Victoria - Sin Patrones - 13.09.2023.mp3',\n",
       " '..\\\\output\\\\13 de Setiembre\\\\1.Radio\\\\openai\\\\Radio Victoria - Victoria Informativa (TE) - 13.09.2023\\\\Radio Victoria - Victoria Informativa (TE) - 13.09.2023.mp3']"
      ]
     },
     "execution_count": 11,
     "metadata": {},
     "output_type": "execute_result"
    }
   ],
   "source": [
    "all_files"
   ]
  },
  {
   "cell_type": "code",
   "execution_count": 12,
   "metadata": {},
   "outputs": [
    {
     "data": {
      "text/plain": [
       "12"
      ]
     },
     "execution_count": 12,
     "metadata": {},
     "output_type": "execute_result"
    }
   ],
   "source": [
    "len(all_files)"
   ]
  },
  {
   "cell_type": "code",
   "execution_count": 13,
   "metadata": {},
   "outputs": [],
   "source": [
    "all_files = [ '..\\\\output\\\\13 de Setiembre\\\\1.Radio\\\\openai\\\\Radio Líder - Líder Noticias (PE) - 13.09.2023\\\\Radio Líder - Líder Noticias (PE) - 13.09.2023.mp3']"
   ]
  },
  {
   "cell_type": "code",
   "execution_count": 14,
   "metadata": {},
   "outputs": [
    {
     "name": "stdout",
     "output_type": "stream",
     "text": [
      "0\n",
      "NO EXISTE: ../output/13 de Setiembre/1.Radio/openai/Radio Líder - Líder Noticias (PE) - 13.09.2023\n",
      "../output/13 de Setiembre/1.Radio/openai/Radio Líder - Líder Noticias (PE) - 13.09.2023\n"
     ]
    }
   ],
   "source": [
    "for index, f in enumerate(all_files):\n",
    "    print(index)\n",
    "    dir_name = \"/\".join(all_files[index].split(\"\\\\\")[:-1])\n",
    "    chunk = check_for_chunk_in_filenames(dir_name)\n",
    "    if chunk:\n",
    "        print(\"EXISTE: \",dir_name)\n",
    "        pass\n",
    "    else:\n",
    "        print(\"NO EXISTE:\", dir_name)\n",
    "        chunks = split_audio(all_files[index], dir_name, chunk_size_ms)\n",
    "        print(dir_name)"
   ]
  },
  {
   "cell_type": "code",
   "execution_count": null,
   "metadata": {},
   "outputs": [],
   "source": []
  },
  {
   "cell_type": "code",
   "execution_count": null,
   "metadata": {},
   "outputs": [],
   "source": []
  }
 ],
 "metadata": {
  "kernelspec": {
   "display_name": ".venv",
   "language": "python",
   "name": "python3"
  },
  "language_info": {
   "codemirror_mode": {
    "name": "ipython",
    "version": 3
   },
   "file_extension": ".py",
   "mimetype": "text/x-python",
   "name": "python",
   "nbconvert_exporter": "python",
   "pygments_lexer": "ipython3",
   "version": "3.7.9"
  }
 },
 "nbformat": 4,
 "nbformat_minor": 2
}
