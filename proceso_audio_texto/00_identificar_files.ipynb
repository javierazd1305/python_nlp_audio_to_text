{
 "cells": [
  {
   "cell_type": "code",
   "execution_count": 1,
   "metadata": {},
   "outputs": [],
   "source": [
    "from pathlib import Path\n",
    "from pydub import AudioSegment\n",
    "import os"
   ]
  },
  {
   "cell_type": "code",
   "execution_count": 2,
   "metadata": {},
   "outputs": [],
   "source": [
    "def list_files_in_directory(directory):\n",
    "    path = Path(directory)\n",
    "    return [str(p) for p in path.rglob(\"*\") if p.suffix in (\".mp3\", \".mp4\")]"
   ]
  },
  {
   "cell_type": "code",
   "execution_count": 3,
   "metadata": {},
   "outputs": [],
   "source": [
    "def prepare_audio(input_path):\n",
    "    audio_mod = AudioSegment.from_mp3(input_path)\n",
    "    audio_mod = audio_mod.set_frame_rate(48000) ## 48000 for high quality and 44100 for standard\n",
    "    audio_mod = audio_mod.set_channels(1)\n",
    "    audio_mod = audio_mod.normalize()\n",
    "    audio_mod = audio_mod + 15\n",
    "    audio_mod = audio_mod.low_pass_filter(1000)    \n",
    "    return audio_mod"
   ]
  },
  {
   "cell_type": "code",
   "execution_count": 4,
   "metadata": {},
   "outputs": [],
   "source": [
    "input_dir = \"../input/13 de Setiembre/1.Radio\"\n",
    "output_dir = \"../output/13 de Setiembre/1.Radio/fase_1/\"\n",
    "all_files = list_files_in_directory(input_dir)"
   ]
  },
  {
   "cell_type": "code",
   "execution_count": 5,
   "metadata": {},
   "outputs": [
    {
     "data": {
      "text/plain": [
       "72"
      ]
     },
     "execution_count": 5,
     "metadata": {},
     "output_type": "execute_result"
    }
   ],
   "source": [
    "len(all_files)"
   ]
  },
  {
   "cell_type": "markdown",
   "metadata": {},
   "source": [
    "## Crear carpeta para cada audio"
   ]
  },
  {
   "cell_type": "code",
   "execution_count": 5,
   "metadata": {},
   "outputs": [],
   "source": [
    "for file in all_files:\n",
    "    audio_name = file.split(\"\\\\\")[-1].split(\".mp\")[0]\n",
    "    new_audio_dir = os.path.join(output_dir, audio_name)\n",
    "    if not os.path.exists(new_audio_dir):\n",
    "        os.makedirs(new_audio_dir)"
   ]
  },
  {
   "cell_type": "markdown",
   "metadata": {},
   "source": [
    "## Exportar audio modificado en carpeta correspondiente"
   ]
  },
  {
   "cell_type": "code",
   "execution_count": 15,
   "metadata": {},
   "outputs": [
    {
     "name": "stdout",
     "output_type": "stream",
     "text": [
      "0\n",
      "../output/13 de Setiembre/1.Radio/fase_1/HABLEMOS CLARO - RADIO EXITOSA 13-09-2023\\HABLEMOS CLARO - RADIO EXITOSA 13-09-2023.wav\n",
      "1\n",
      "../output/13 de Setiembre/1.Radio/fase_1/NO HAY DERECHO - RADIO STEREO VILLA 13-09-2023\\NO HAY DERECHO - RADIO STEREO VILLA 13-09-2023.wav\n",
      "2\n",
      "../output/13 de Setiembre/1.Radio/fase_1/PLANICIE NOTICIAS - RADIO PLANICIE  13-09-2023\\PLANICIE NOTICIAS - RADIO PLANICIE  13-09-2023.wav\n",
      "3\n",
      "../output/13 de Setiembre/1.Radio/fase_1/RADIO COMAS NOTICIAS - RADIO COMAS  13-09-2023\\RADIO COMAS NOTICIAS - RADIO COMAS  13-09-2023.wav\n",
      "4\n",
      "../output/13 de Setiembre/1.Radio/fase_1/RADIO IMPERIAL 2 - 12-09-2023\\RADIO IMPERIAL 2 - 12-09-2023.wav\n",
      "5\n",
      "../output/13 de Setiembre/1.Radio/fase_1/VOCES DE LIMA ESTE  - RADIO CANTO GRANDE 13-09-2023\\VOCES DE LIMA ESTE  - RADIO CANTO GRANDE 13-09-2023.wav\n",
      "6\n",
      "../output/13 de Setiembre/1.Radio/fase_1/Programa Valgan Verdades (Pachamama) - Puno- 13.09.23\\Programa Valgan Verdades (Pachamama) - Puno- 13.09.23.wav\n",
      "7\n",
      "../output/13 de Setiembre/1.Radio/fase_1/Radio Altura - Puno - 13.09.23\\Radio Altura - Puno - 13.09.23.wav\n",
      "8\n",
      "../output/13 de Setiembre/1.Radio/fase_1/Radio Exitosa - Puno - 13.09.23\\Radio Exitosa - Puno - 13.09.23.wav\n",
      "9\n",
      "../output/13 de Setiembre/1.Radio/fase_1/Radio Juliaca La Decana - Puno - 13.09.23\\Radio Juliaca La Decana - Puno - 13.09.23.wav\n",
      "10\n",
      "../output/13 de Setiembre/1.Radio/fase_1/Radio Onda Azul - Puno- 13.09.23\\Radio Onda Azul - Puno- 13.09.23.wav\n",
      "11\n",
      "../output/13 de Setiembre/1.Radio/fase_1/Radio Pachamama - Puno - 13.09.23\\Radio Pachamama - Puno - 13.09.23.wav\n",
      "12\n",
      "../output/13 de Setiembre/1.Radio/fase_1/Radio Exitosa - Exitosa Tacna - 13.09.2023\\Radio Exitosa - Exitosa Tacna - 13.09.2023.wav\n",
      "13\n",
      "../output/13 de Setiembre/1.Radio/fase_1/Radio La Estación - Estación de Noticias - 13.09.2023\\Radio La Estación - Estación de Noticias - 13.09.2023.wav\n",
      "14\n",
      "../output/13 de Setiembre/1.Radio/fase_1/Radio La Estación - Gran Sala de Noticias - 13.09.2023\\Radio La Estación - Gran Sala de Noticias - 13.09.2023.wav\n",
      "15\n",
      "../output/13 de Setiembre/1.Radio/fase_1/Radio RCC - Punto de Quiebre - 13.09.2023\\Radio RCC - Punto de Quiebre - 13.09.2023.wav\n",
      "16\n",
      "../output/13 de Setiembre/1.Radio/fase_1/Radio RCC - RCC Informa - 13.09.2023\\Radio RCC - RCC Informa - 13.09.2023.wav\n",
      "17\n",
      "../output/13 de Setiembre/1.Radio/fase_1/Radio Santa Cecilia - Santa Cecilia Noticias - 13.09.2023\\Radio Santa Cecilia - Santa Cecilia Noticias - 13.09.2023.wav\n",
      "18\n",
      "../output/13 de Setiembre/1.Radio/fase_1/Radio Tacna - Debate - 13.09.2023\\Radio Tacna - Debate - 13.09.2023.wav\n",
      "19\n",
      "../output/13 de Setiembre/1.Radio/fase_1/Radio Tacna - Decana Noticias - 13.09.2023\\Radio Tacna - Decana Noticias - 13.09.2023.wav\n",
      "20\n",
      "../output/13 de Setiembre/1.Radio/fase_1/Radio Tacna - La Voz de la Noticia - 13.09.2023\\Radio Tacna - La Voz de la Noticia - 13.09.2023.wav\n",
      "21\n",
      "../output/13 de Setiembre/1.Radio/fase_1/Radio Tacna - Opinión - 13.09.2023\\Radio Tacna - Opinión - 13.09.2023.wav\n",
      "ERROR:  ../output/13 de Setiembre/1.Radio/fase_1/Radio Tacna - Opinión - 13.09.2023\\Radio Tacna - Opinión - 13.09.2023.wav\n",
      "23\n",
      "../output/13 de Setiembre/1.Radio/fase_1/Radio Uno - Impacto Segunda Edición - 13.09.2023\\Radio Uno - Impacto Segunda Edición - 13.09.2023.wav\n",
      "24\n",
      "../output/13 de Setiembre/1.Radio/fase_1/Radio Uno - Tacna al Día - 13.09.2023\\Radio Uno - Tacna al Día - 13.09.2023.wav\n",
      "25\n",
      "../output/13 de Setiembre/1.Radio/fase_1/COBERTURA TOTAL 13.09.2023 \\COBERTURA TOTAL 13.09.2023 .wav\n",
      "ERROR:  ../output/13 de Setiembre/1.Radio/fase_1/COBERTURA TOTAL 13.09.2023 \\COBERTURA TOTAL 13.09.2023 .wav\n",
      "26\n",
      "../output/13 de Setiembre/1.Radio/fase_1/EXITOSA 13.09.2023\\EXITOSA 13.09.2023.wav\n",
      "27\n",
      "../output/13 de Setiembre/1.Radio/fase_1/LA ULTIMA -13.09.2023\\LA ULTIMA -13.09.2023.wav\n",
      "28\n",
      "../output/13 de Setiembre/1.Radio/fase_1/OPINION LIBRE 13.09.2023\\OPINION LIBRE 13.09.2023.wav\n",
      "29\n",
      "../output/13 de Setiembre/1.Radio/fase_1/POLEMICA NOTICIAS 13.09.2023\\POLEMICA NOTICIAS 13.09.2023.wav\n",
      "30\n",
      "../output/13 de Setiembre/1.Radio/fase_1/REPLICA NOTICIAS -13.09.2023\\REPLICA NOTICIAS -13.09.2023.wav\n",
      "31\n",
      "../output/13 de Setiembre/1.Radio/fase_1/RPP 13.09.2023\\RPP 13.09.2023.wav\n",
      "32\n",
      "../output/13 de Setiembre/1.Radio/fase_1/SIN MORDAZA- 13.09.2023 - \\SIN MORDAZA- 13.09.2023 - .wav\n",
      "ERROR:  ../output/13 de Setiembre/1.Radio/fase_1/SIN MORDAZA- 13.09.2023 - \\SIN MORDAZA- 13.09.2023 - .wav\n",
      "33\n",
      "../output/13 de Setiembre/1.Radio/fase_1/VOZ DE LA CALLE 13.09.2023\\VOZ DE LA CALLE 13.09.2023.wav\n"
     ]
    }
   ],
   "source": [
    "errores = []\n",
    "for index, item in enumerate(all_files):\n",
    "    try:\n",
    "        audio_mod = prepare_audio(item)\n",
    "        audio_dir = item.split(\"\\\\\")[-1].split(\".mp\")[0]\n",
    "        audio_file = audio_dir+\".wav\"\n",
    "        audio_export_path = os.path.join(output_dir,audio_dir, audio_file)\n",
    "        print(index)\n",
    "        print(audio_export_path)\n",
    "        audio_mod.export(audio_export_path, format=\"wav\")\n",
    "    except:\n",
    "        print(\"ERROR: \", audio_export_path)\n",
    "        errores.append(audio_export_path)"
   ]
  },
  {
   "cell_type": "code",
   "execution_count": null,
   "metadata": {},
   "outputs": [],
   "source": []
  }
 ],
 "metadata": {
  "kernelspec": {
   "display_name": ".venv",
   "language": "python",
   "name": "python3"
  },
  "language_info": {
   "codemirror_mode": {
    "name": "ipython",
    "version": 3
   },
   "file_extension": ".py",
   "mimetype": "text/x-python",
   "name": "python",
   "nbconvert_exporter": "python",
   "pygments_lexer": "ipython3",
   "version": "3.7.9"
  }
 },
 "nbformat": 4,
 "nbformat_minor": 2
}
